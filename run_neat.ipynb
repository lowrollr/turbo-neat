{
 "cells": [
  {
   "cell_type": "code",
   "execution_count": 1,
   "metadata": {},
   "outputs": [
    {
     "name": "stderr",
     "output_type": "stream",
     "text": [
      "flocking: 2024-10-12 23:01:53,741 [INFO] Starting!\n",
      "jax._src.xla_bridge: 2024-10-12 23:01:54,138 [INFO] Unable to initialize backend 'rocm': module 'jaxlib.xla_extension' has no attribute 'GpuAllocatorConfig'\n",
      "jax._src.xla_bridge: 2024-10-12 23:01:54,140 [INFO] Unable to initialize backend 'tpu': INTERNAL: Failed to open libtpu.so: libtpu.so: cannot open shared object file: No such file or directory\n",
      "flocking: 2024-10-12 23:01:54,141 [INFO] Jax backend: [CudaDevice(id=0)]\n"
     ]
    }
   ],
   "source": [
    "%load_ext autoreload\n",
    "%autoreload 2\n",
    "\n",
    "from neat_jax.config import NEATConfig\n",
    "from neat_jax.neat import NEAT\n",
    "import jax\n",
    "import evojax\n",
    "from evojax.task import flocking\n",
    "from evojax.util import create_logger\n",
    "\n",
    "log_dir = \"./logs\"\n",
    "logger = create_logger(name=\"flocking\", log_dir=log_dir)\n",
    "logger.info(\"Starting!\")\n",
    "logger.info('Jax backend: {}'.format(jax.local_devices()))\n",
    "\n",
    "\n"
   ]
  },
  {
   "cell_type": "code",
   "execution_count": 2,
   "metadata": {},
   "outputs": [],
   "source": [
    "seed = 42\n",
    "neighbor_num = 5\n",
    "\n",
    "rollout_key = jax.random.PRNGKey(seed=seed)\n",
    "\n",
    "reset_key, rollout_key = jax.random.split(rollout_key, 2)\n",
    "reset_key = reset_key[None, :] \n",
    "\n",
    "train_task = flocking.FlockingTask(100, action_type=1)\n",
    "test_task = flocking.FlockingTask(100, action_type=1)\n",
    "from neat_jax.fitness import make_fitness_fn\n",
    "train_fitness_fn = make_fitness_fn(\n",
    "    task=train_task,\n",
    "    num_steps=100,\n",
    ")\n",
    "test_fitness_fn = make_fitness_fn(\n",
    "    task=test_task,\n",
    "    num_steps=100,\n",
    ")"
   ]
  },
  {
   "cell_type": "code",
   "execution_count": 3,
   "metadata": {},
   "outputs": [],
   "source": [
    "import neat_jax.activations as act\n",
    "\n",
    "output_size = train_task.act_shape[0]\n",
    "input_size = train_task.obs_shape[0]\n",
    "activation_fns = [act.iden, act.sigmoid, act.tanh, act.relu]\n",
    "# output activation should be tanh\n",
    "# tanh, tanh, tanh\n",
    "output_activation_ids = [2, 2]\n",
    "# identity, identity, identity\n",
    "input_activation_ids = [0 for _ in range(input_size)]\n",
    "\n",
    "def get_input_label(idx):\n",
    "    neighbor_num = idx // 3\n",
    "    if idx % 3 == 0:\n",
    "        return f\"Neighbor {neighbor_num}: X\"\n",
    "    elif idx % 3 == 1:\n",
    "        return f\"Neighbor {neighbor_num}: Y\"\n",
    "    else:\n",
    "        return f\"Neighbor {neighbor_num}: Theta\"\n",
    "    \n",
    "def get_output_label(idx):\n",
    "    if idx == 0:\n",
    "        return \"d_theta\"\n",
    "    else:\n",
    "        return \"d_speed\"\n",
    "\n",
    "\n",
    "from neat_jax.config import GenomeConfig, SelectionConfig, MutationConfig, NEATConfig\n",
    "from neat_jax.species import make_improvement_stagnation_fn, make_remove_last_if_stagnant_and_full_stagnation_fn\n",
    "mutation_config = MutationConfig(\n",
    "    add_connection_prob = 0.05,\n",
    "    add_node_prob = 0.03,\n",
    "    disable_connection_prob = 0.05,\n",
    "    disable_node_prob = 0.03,\n",
    "    mutate_weight_std = 0.1,\n",
    "    mutate_weight_prob = 0.8,\n",
    "    mutate_activation_prob = 0.0,\n",
    "    mutate_bias_prob=0.0,\n",
    "    mutate_bias_std=0.0,\n",
    ")\n",
    "\n",
    "genome_config = GenomeConfig(\n",
    "    input_size = input_size,\n",
    "    output_size = output_size,\n",
    "    initial_capacity = 100,\n",
    "    init_weight_mean= 0.0,\n",
    "    init_weight_std= 1.0,\n",
    "    activation_fns = activation_fns,\n",
    "    input_activation_ids=input_activation_ids,\n",
    "    output_activation_ids=output_activation_ids,\n",
    "    input_labels = [get_input_label(i) for i in range(input_size)],\n",
    "    output_labels = [get_output_label(i) for i in range(output_size)],\n",
    "    capacity_growth_strategy=\"linear\",\n",
    "    init_mode=\"full\"\n",
    ")\n",
    "\n",
    "selection_config = SelectionConfig(\n",
    "    population_size=100,\n",
    "    cutoff_pct=0.1,\n",
    "    speciation_threshold = 1.0,\n",
    "    compatibility_coefficients = (1.0, 0.9),\n",
    "    elitism=0.1,\n",
    "    stagnation_fn=make_improvement_stagnation_fn(max_stagnated_steps=20),\n",
    "    max_transfer_age=1,\n",
    "    maximum_species=5,\n",
    "    selection_tournament_size = 8,\n",
    "    min_species_size=0,\n",
    "    species_warmup_threshold=1\n",
    ")\n",
    "\n",
    "neat_config = NEATConfig(\n",
    "    mutation_config=mutation_config,\n",
    "    genome_config=genome_config,\n",
    "    selection_config=selection_config,\n",
    ")"
   ]
  },
  {
   "cell_type": "code",
   "execution_count": 4,
   "metadata": {},
   "outputs": [
    {
     "name": "stderr",
     "output_type": "stream",
     "text": [
      "\u001b[34m\u001b[1mwandb\u001b[0m: Using wandb-core as the SDK backend. Please refer to https://wandb.me/wandb-core for more information.\n"
     ]
    },
    {
     "name": "stderr",
     "output_type": "stream",
     "text": [
      "\u001b[34m\u001b[1mwandb\u001b[0m: Currently logged in as: \u001b[33mlowrollr\u001b[0m. Use \u001b[1m`wandb login --relogin`\u001b[0m to force relogin\n"
     ]
    },
    {
     "data": {
      "text/html": [
       "Tracking run with wandb version 0.18.2"
      ],
      "text/plain": [
       "<IPython.core.display.HTML object>"
      ]
     },
     "metadata": {},
     "output_type": "display_data"
    },
    {
     "data": {
      "text/html": [
       "Run data is saved locally in <code>/home/azureuser/turbo-neat/wandb/run-20241012_230155-9vb1pkwi</code>"
      ],
      "text/plain": [
       "<IPython.core.display.HTML object>"
      ]
     },
     "metadata": {},
     "output_type": "display_data"
    },
    {
     "data": {
      "text/html": [
       "Syncing run <strong><a href='https://wandb.ai/lowrollr/turbo-neat/runs/9vb1pkwi' target=\"_blank\">fanciful-cosmos-36</a></strong> to <a href='https://wandb.ai/lowrollr/turbo-neat' target=\"_blank\">Weights & Biases</a> (<a href='https://wandb.me/run' target=\"_blank\">docs</a>)<br/>"
      ],
      "text/plain": [
       "<IPython.core.display.HTML object>"
      ]
     },
     "metadata": {},
     "output_type": "display_data"
    },
    {
     "data": {
      "text/html": [
       " View project at <a href='https://wandb.ai/lowrollr/turbo-neat' target=\"_blank\">https://wandb.ai/lowrollr/turbo-neat</a>"
      ],
      "text/plain": [
       "<IPython.core.display.HTML object>"
      ]
     },
     "metadata": {},
     "output_type": "display_data"
    },
    {
     "data": {
      "text/html": [
       " View run at <a href='https://wandb.ai/lowrollr/turbo-neat/runs/9vb1pkwi' target=\"_blank\">https://wandb.ai/lowrollr/turbo-neat/runs/9vb1pkwi</a>"
      ],
      "text/plain": [
       "<IPython.core.display.HTML object>"
      ]
     },
     "metadata": {},
     "output_type": "display_data"
    },
    {
     "name": "stdout",
     "output_type": "stream",
     "text": [
      "Rendering and logging generation 0\n",
      "{'generation': '0.00', 'mean_fitness': '-120.09', 'max_fitness': '-83.84', 'min_fitness': '-138.48', 'mean_hidden_nodes': '0.00', 'mean_condensed_hidden_nodes': '0.00', 'mean_connections': '30.00', 'mean_condensed_connections': '30.00', 'num_species': '1.00', 'fitness_against_baseline': '-94.23'}\n",
      "{'generation': '1.00', 'mean_fitness': '-117.45', 'max_fitness': '-85.87', 'min_fitness': '-139.23', 'mean_hidden_nodes': '0.02', 'mean_condensed_hidden_nodes': '0.02', 'mean_connections': '29.99', 'mean_condensed_connections': '29.99', 'num_species': '5.00', 'species_dominance/s0': '0.96', 'species_fitness/s0': '-21.77', 'species_dominance/s1': '0.01', 'species_fitness/s1': '-22.16', 'species_dominance/s2': '0.01', 'species_fitness/s2': '-23.77', 'species_dominance/s3': '0.01', 'species_fitness/s3': '-23.01', 'species_dominance/s4': '0.01', 'species_fitness/s4': '-24.23'}\n",
      "{'generation': '2.00', 'mean_fitness': '-113.20', 'max_fitness': '-83.27', 'min_fitness': '-137.82', 'mean_hidden_nodes': '0.05', 'mean_condensed_hidden_nodes': '0.05', 'mean_connections': '29.99', 'mean_condensed_connections': '29.99', 'num_species': '5.00', 'fitness_against_baseline': '-101.57', 'species_dominance/s0': '0.31', 'species_fitness/s0': '-37.94', 'species_dominance/s1': '0.26', 'species_fitness/s1': '-40.20', 'species_dominance/s3': '0.18', 'species_fitness/s3': '-40.67', 'species_dominance/s2': '0.14', 'species_fitness/s2': '-41.36', 'species_dominance/s4': '0.11', 'species_fitness/s4': '-41.47'}\n",
      "{'generation': '3.00', 'mean_fitness': '-112.54', 'max_fitness': '-80.89', 'min_fitness': '-135.79', 'mean_hidden_nodes': '0.18', 'mean_condensed_hidden_nodes': '0.18', 'mean_connections': '30.04', 'mean_condensed_connections': '30.04', 'num_species': '5.00', 'fitness_against_baseline': '-94.53', 'species_dominance/s0': '0.37', 'species_fitness/s0': '-48.72', 'species_dominance/s1': '0.19', 'species_fitness/s1': '-54.95', 'species_dominance/s3': '0.17', 'species_fitness/s3': '-55.49', 'species_dominance/s2': '0.14', 'species_fitness/s2': '-56.44', 'species_dominance/s4': '0.13', 'species_fitness/s4': '-56.29'}\n",
      "{'generation': '4.00', 'mean_fitness': '-113.31', 'max_fitness': '-81.85', 'min_fitness': '-133.27', 'mean_hidden_nodes': '0.31', 'mean_condensed_hidden_nodes': '0.30', 'mean_connections': '30.23', 'mean_condensed_connections': '30.23', 'num_species': '5.00', 'species_dominance/s0': '0.38', 'species_fitness/s0': '-57.39', 'species_dominance/s1': '0.17', 'species_fitness/s1': '-67.15', 'species_dominance/s3': '0.16', 'species_fitness/s3': '-67.17', 'species_dominance/s4': '0.15', 'species_fitness/s4': '-68.98', 'species_dominance/s2': '0.14', 'species_fitness/s2': '-68.37'}\n",
      "Render complete!\n",
      "Rendering and logging generation 2\n",
      "Render complete!\n",
      "Rendering and logging generation 3\n",
      "Render complete!\n"
     ]
    }
   ],
   "source": [
    "import concurrent.futures\n",
    "import os\n",
    "import tqdm\n",
    "import wandb\n",
    "from evojax.task.flocking import render_single\n",
    "\n",
    "logdir = \"./logs\"\n",
    "def render_fn(state):\n",
    "    gif_file = os.path.join(logdir, 'flocking.gif')\n",
    "    with jax.default_device(jax.devices(\"cpu\")[0]):\n",
    "        screens = [render_single(state.state[i]) for i in range(state.obs.shape[0])]\n",
    "        screens[0].save(gif_file, save_all=True, append_images=screens[1:], duration=40, loop=0)\n",
    "    print(\"Render complete!\")\n",
    "    return wandb.Video(gif_file, fps=6)\n",
    "\n",
    "\n",
    "\n",
    "neat = NEAT(\n",
    "    config = neat_config,\n",
    "    fitness_fn = train_fitness_fn,\n",
    "    baseline_test_fn = test_fitness_fn,\n",
    "    wandb_project = \"turbo-neat\"\n",
    ")\n",
    "\n",
    "population = neat.run(seed=0, num_generations=5, render_fn=render_fn)\n",
    "\n"
   ]
  }
 ],
 "metadata": {
  "kernelspec": {
   "display_name": "neat-jax",
   "language": "python",
   "name": "python3"
  },
  "language_info": {
   "codemirror_mode": {
    "name": "ipython",
    "version": 3
   },
   "file_extension": ".py",
   "mimetype": "text/x-python",
   "name": "python",
   "nbconvert_exporter": "python",
   "pygments_lexer": "ipython3",
   "version": "3.10.14"
  }
 },
 "nbformat": 4,
 "nbformat_minor": 2
}
